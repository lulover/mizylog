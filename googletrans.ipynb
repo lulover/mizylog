{
  "nbformat": 4,
  "nbformat_minor": 0,
  "metadata": {
    "colab": {
      "name": "googletrans.ipynb",
      "provenance": [],
      "include_colab_link": true
    },
    "kernelspec": {
      "name": "python3",
      "display_name": "Python 3"
    }
  },
  "cells": [
    {
      "cell_type": "markdown",
      "metadata": {
        "id": "view-in-github",
        "colab_type": "text"
      },
      "source": [
        "<a href=\"https://colab.research.google.com/github/mizykk/mizylog/blob/master/googletrans.ipynb\" target=\"_parent\"><img src=\"https://colab.research.google.com/assets/colab-badge.svg\" alt=\"Open In Colab\"/></a>"
      ]
    },
    {
      "cell_type": "markdown",
      "metadata": {
        "id": "nZqLAylEgfIf",
        "colab_type": "text"
      },
      "source": [
        "# [**Googletrans**](https://pypi.org/project/googletrans/)\n",
        "\n",
        "### install package 패키지 설치\n",
        "\n"
      ]
    },
    {
      "cell_type": "code",
      "metadata": {
        "id": "pDXwGyAZgZ8W",
        "colab_type": "code",
        "colab": {
          "base_uri": "https://localhost:8080/",
          "height": 265
        },
        "outputId": "fb3ae00b-31bc-4577-b7d5-accbc0c9d22b"
      },
      "source": [
        " pip install googletrans"
      ],
      "execution_count": 1,
      "outputs": [
        {
          "output_type": "stream",
          "text": [
            "Collecting googletrans\n",
            "  Downloading https://files.pythonhosted.org/packages/fd/f0/a22d41d3846d1f46a4f20086141e0428ccc9c6d644aacbfd30990cf46886/googletrans-2.4.0.tar.gz\n",
            "Requirement already satisfied: requests in /usr/local/lib/python3.6/dist-packages (from googletrans) (2.21.0)\n",
            "Requirement already satisfied: urllib3<1.25,>=1.21.1 in /usr/local/lib/python3.6/dist-packages (from requests->googletrans) (1.24.3)\n",
            "Requirement already satisfied: chardet<3.1.0,>=3.0.2 in /usr/local/lib/python3.6/dist-packages (from requests->googletrans) (3.0.4)\n",
            "Requirement already satisfied: certifi>=2017.4.17 in /usr/local/lib/python3.6/dist-packages (from requests->googletrans) (2019.9.11)\n",
            "Requirement already satisfied: idna<2.9,>=2.5 in /usr/local/lib/python3.6/dist-packages (from requests->googletrans) (2.8)\n",
            "Building wheels for collected packages: googletrans\n",
            "  Building wheel for googletrans (setup.py) ... \u001b[?25l\u001b[?25hdone\n",
            "  Created wheel for googletrans: filename=googletrans-2.4.0-cp36-none-any.whl size=15776 sha256=2a572aecaaf48b22d4632a88a568db59b8773a4fbfffaf186f198fe332d2d62e\n",
            "  Stored in directory: /root/.cache/pip/wheels/50/d6/e7/a8efd5f2427d5eb258070048718fa56ee5ac57fd6f53505f95\n",
            "Successfully built googletrans\n",
            "Installing collected packages: googletrans\n",
            "Successfully installed googletrans-2.4.0\n"
          ],
          "name": "stdout"
        }
      ]
    },
    {
      "cell_type": "markdown",
      "metadata": {
        "id": "f46KlabCg6Oh",
        "colab_type": "text"
      },
      "source": [
        "### Translator"
      ]
    },
    {
      "cell_type": "code",
      "metadata": {
        "id": "t-2-6RRmgu0s",
        "colab_type": "code",
        "colab": {}
      },
      "source": [
        "from googletrans import Translator"
      ],
      "execution_count": 0,
      "outputs": []
    },
    {
      "cell_type": "code",
      "metadata": {
        "id": "b4ZhD9pVhCpN",
        "colab_type": "code",
        "colab": {
          "base_uri": "https://localhost:8080/",
          "height": 34
        },
        "outputId": "a84ff4c9-7662-460f-944e-d0b52d25a9e9"
      },
      "source": [
        "translator = Translator()\n",
        "translator.translate('안녕하세요.')"
      ],
      "execution_count": 3,
      "outputs": [
        {
          "output_type": "execute_result",
          "data": {
            "text/plain": [
              "<googletrans.models.Translated at 0x7ff2735e8e10>"
            ]
          },
          "metadata": {
            "tags": []
          },
          "execution_count": 3
        }
      ]
    },
    {
      "cell_type": "markdown",
      "metadata": {
        "id": "z8YtkBa1nVqp",
        "colab_type": "text"
      },
      "source": [
        "**.text**: 번역된 문자 출력  \n",
        "**.src** : 번역 할 언어(from)  \n",
        "**.dest**: 번역 될 언어(to)    \n",
        "\n",
        "를 지정해서 원하는 결과를 출력하면 된다."
      ]
    },
    {
      "cell_type": "code",
      "metadata": {
        "id": "Yghd_sX8hb0k",
        "colab_type": "code",
        "colab": {
          "base_uri": "https://localhost:8080/",
          "height": 34
        },
        "outputId": "7d17beed-1a34-48e7-82ed-820d839b5a6c"
      },
      "source": [
        "result = translator.translate('안녕하세요.')\n",
        "result.text   #번역 결과"
      ],
      "execution_count": 5,
      "outputs": [
        {
          "output_type": "execute_result",
          "data": {
            "text/plain": [
              "'Good morning.'"
            ]
          },
          "metadata": {
            "tags": []
          },
          "execution_count": 5
        }
      ]
    },
    {
      "cell_type": "code",
      "metadata": {
        "id": "45GgWUvwh0Gd",
        "colab_type": "code",
        "colab": {
          "base_uri": "https://localhost:8080/",
          "height": 34
        },
        "outputId": "8fff2593-2438-4588-b6e3-ef7ba1d4934e"
      },
      "source": [
        "result.src   #번역 할 언어"
      ],
      "execution_count": 6,
      "outputs": [
        {
          "output_type": "execute_result",
          "data": {
            "text/plain": [
              "'ko'"
            ]
          },
          "metadata": {
            "tags": []
          },
          "execution_count": 6
        }
      ]
    },
    {
      "cell_type": "code",
      "metadata": {
        "id": "04NXIJ2Rh2Nz",
        "colab_type": "code",
        "colab": {
          "base_uri": "https://localhost:8080/",
          "height": 34
        },
        "outputId": "080e794e-81b9-4b97-d975-f1ad3899535e"
      },
      "source": [
        "result.dest   #번역 될 언어"
      ],
      "execution_count": 7,
      "outputs": [
        {
          "output_type": "execute_result",
          "data": {
            "text/plain": [
              "'en'"
            ]
          },
          "metadata": {
            "tags": []
          },
          "execution_count": 7
        }
      ]
    },
    {
      "cell_type": "code",
      "metadata": {
        "id": "TdPKbG9miJ-p",
        "colab_type": "code",
        "colab": {
          "base_uri": "https://localhost:8080/",
          "height": 34
        },
        "outputId": "b557ac08-ebd0-43ae-f261-ce3e2a7a75b7"
      },
      "source": [
        "result = translator.translate('veritas lux mea', src='la', dest = 'ko')\n",
        "result.text"
      ],
      "execution_count": 10,
      "outputs": [
        {
          "output_type": "execute_result",
          "data": {
            "text/plain": [
              "'진실은 나의 빛'"
            ]
          },
          "metadata": {
            "tags": []
          },
          "execution_count": 10
        }
      ]
    },
    {
      "cell_type": "markdown",
      "metadata": {
        "id": "CM84mMuCnFux",
        "colab_type": "text"
      },
      "source": [
        "latin(src) -> ko(dest)  \n",
        "'veritas lux mea' -> '진실은 나의 빛'"
      ]
    },
    {
      "cell_type": "code",
      "metadata": {
        "id": "-1yhBCs0kswH",
        "colab_type": "code",
        "colab": {
          "base_uri": "https://localhost:8080/",
          "height": 34
        },
        "outputId": "3c62039b-ce00-45b6-e838-803c108be913"
      },
      "source": [
        "result = translator.translate('veritas lux mea', src='la')\n",
        "result.text"
      ],
      "execution_count": 15,
      "outputs": [
        {
          "output_type": "execute_result",
          "data": {
            "text/plain": [
              "'The truth is my light'"
            ]
          },
          "metadata": {
            "tags": []
          },
          "execution_count": 15
        }
      ]
    },
    {
      "cell_type": "markdown",
      "metadata": {
        "id": "odcLLWe6m8Xx",
        "colab_type": "text"
      },
      "source": [
        "dest를 지정하지 않으면 default인 영어로 번역된다."
      ]
    },
    {
      "cell_type": "markdown",
      "metadata": {
        "id": "DZ1ZJZsKm3uD",
        "colab_type": "text"
      },
      "source": [
        "### Languages"
      ]
    },
    {
      "cell_type": "code",
      "metadata": {
        "id": "uj-hnxb_kkBg",
        "colab_type": "code",
        "colab": {
          "base_uri": "https://localhost:8080/",
          "height": 1000
        },
        "outputId": "93fa1948-d670-43ac-f676-24b8073d6c1b"
      },
      "source": [
        "import googletrans\n",
        "googletrans.LANGUAGES"
      ],
      "execution_count": 14,
      "outputs": [
        {
          "output_type": "execute_result",
          "data": {
            "text/plain": [
              "{'af': 'afrikaans',\n",
              " 'am': 'amharic',\n",
              " 'ar': 'arabic',\n",
              " 'az': 'azerbaijani',\n",
              " 'be': 'belarusian',\n",
              " 'bg': 'bulgarian',\n",
              " 'bn': 'bengali',\n",
              " 'bs': 'bosnian',\n",
              " 'ca': 'catalan',\n",
              " 'ceb': 'cebuano',\n",
              " 'co': 'corsican',\n",
              " 'cs': 'czech',\n",
              " 'cy': 'welsh',\n",
              " 'da': 'danish',\n",
              " 'de': 'german',\n",
              " 'el': 'greek',\n",
              " 'en': 'english',\n",
              " 'eo': 'esperanto',\n",
              " 'es': 'spanish',\n",
              " 'et': 'estonian',\n",
              " 'eu': 'basque',\n",
              " 'fa': 'persian',\n",
              " 'fi': 'finnish',\n",
              " 'fil': 'Filipino',\n",
              " 'fr': 'french',\n",
              " 'fy': 'frisian',\n",
              " 'ga': 'irish',\n",
              " 'gd': 'scots gaelic',\n",
              " 'gl': 'galician',\n",
              " 'gu': 'gujarati',\n",
              " 'ha': 'hausa',\n",
              " 'haw': 'hawaiian',\n",
              " 'he': 'Hebrew',\n",
              " 'hi': 'hindi',\n",
              " 'hmn': 'hmong',\n",
              " 'hr': 'croatian',\n",
              " 'ht': 'haitian creole',\n",
              " 'hu': 'hungarian',\n",
              " 'hy': 'armenian',\n",
              " 'id': 'indonesian',\n",
              " 'ig': 'igbo',\n",
              " 'is': 'icelandic',\n",
              " 'it': 'italian',\n",
              " 'iw': 'hebrew',\n",
              " 'ja': 'japanese',\n",
              " 'jw': 'javanese',\n",
              " 'ka': 'georgian',\n",
              " 'kk': 'kazakh',\n",
              " 'km': 'khmer',\n",
              " 'kn': 'kannada',\n",
              " 'ko': 'korean',\n",
              " 'ku': 'kurdish (kurmanji)',\n",
              " 'ky': 'kyrgyz',\n",
              " 'la': 'latin',\n",
              " 'lb': 'luxembourgish',\n",
              " 'lo': 'lao',\n",
              " 'lt': 'lithuanian',\n",
              " 'lv': 'latvian',\n",
              " 'mg': 'malagasy',\n",
              " 'mi': 'maori',\n",
              " 'mk': 'macedonian',\n",
              " 'ml': 'malayalam',\n",
              " 'mn': 'mongolian',\n",
              " 'mr': 'marathi',\n",
              " 'ms': 'malay',\n",
              " 'mt': 'maltese',\n",
              " 'my': 'myanmar (burmese)',\n",
              " 'ne': 'nepali',\n",
              " 'nl': 'dutch',\n",
              " 'no': 'norwegian',\n",
              " 'ny': 'chichewa',\n",
              " 'pa': 'punjabi',\n",
              " 'pl': 'polish',\n",
              " 'ps': 'pashto',\n",
              " 'pt': 'portuguese',\n",
              " 'ro': 'romanian',\n",
              " 'ru': 'russian',\n",
              " 'sd': 'sindhi',\n",
              " 'si': 'sinhala',\n",
              " 'sk': 'slovak',\n",
              " 'sl': 'slovenian',\n",
              " 'sm': 'samoan',\n",
              " 'sn': 'shona',\n",
              " 'so': 'somali',\n",
              " 'sq': 'albanian',\n",
              " 'sr': 'serbian',\n",
              " 'st': 'sesotho',\n",
              " 'su': 'sundanese',\n",
              " 'sv': 'swedish',\n",
              " 'sw': 'swahili',\n",
              " 'ta': 'tamil',\n",
              " 'te': 'telugu',\n",
              " 'tg': 'tajik',\n",
              " 'th': 'thai',\n",
              " 'tl': 'filipino',\n",
              " 'tr': 'turkish',\n",
              " 'uk': 'ukrainian',\n",
              " 'ur': 'urdu',\n",
              " 'uz': 'uzbek',\n",
              " 'vi': 'vietnamese',\n",
              " 'xh': 'xhosa',\n",
              " 'yi': 'yiddish',\n",
              " 'yo': 'yoruba',\n",
              " 'zh-cn': 'chinese (simplified)',\n",
              " 'zh-tw': 'chinese (traditional)',\n",
              " 'zu': 'zulu'}"
            ]
          },
          "metadata": {
            "tags": []
          },
          "execution_count": 14
        }
      ]
    }
  ]
}