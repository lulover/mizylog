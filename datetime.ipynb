{
  "nbformat": 4,
  "nbformat_minor": 0,
  "metadata": {
    "colab": {
      "name": "datetime.ipynb",
      "provenance": [],
      "include_colab_link": true
    },
    "kernelspec": {
      "name": "python3",
      "display_name": "Python 3"
    }
  },
  "cells": [
    {
      "cell_type": "markdown",
      "metadata": {
        "id": "view-in-github",
        "colab_type": "text"
      },
      "source": [
        "<a href=\"https://colab.research.google.com/github/mizykk/mizylog/blob/master/datetime.ipynb\" target=\"_parent\"><img src=\"https://colab.research.google.com/assets/colab-badge.svg\" alt=\"Open In Colab\"/></a>"
      ]
    },
    {
      "cell_type": "markdown",
      "metadata": {
        "id": "QZlTuDmaK-Ba",
        "colab_type": "text"
      },
      "source": [
        "# [Datetime](https://docs.python.org/3/library/datetime.html#strftime-and-strptime-format-codes)\n",
        "  \n"
      ]
    },
    {
      "cell_type": "code",
      "metadata": {
        "id": "IECXR0seK60a",
        "colab_type": "code",
        "colab": {}
      },
      "source": [
        "import datetime"
      ],
      "execution_count": 0,
      "outputs": []
    },
    {
      "cell_type": "markdown",
      "metadata": {
        "id": "_9-1jB65LaRY",
        "colab_type": "text"
      },
      "source": [
        "**datetime.datetime.now()**  \n",
        "현재시각  "
      ]
    },
    {
      "cell_type": "code",
      "metadata": {
        "id": "1IiuXRceLVX3",
        "colab_type": "code",
        "outputId": "099a95ee-861a-4304-f36b-249fd5483636",
        "colab": {
          "base_uri": "https://localhost:8080/",
          "height": 35
        }
      },
      "source": [
        "now_time = datetime.datetime.now()\n",
        "now_time"
      ],
      "execution_count": 12,
      "outputs": [
        {
          "output_type": "execute_result",
          "data": {
            "text/plain": [
              "datetime.datetime(2019, 11, 11, 3, 31, 42, 393075)"
            ]
          },
          "metadata": {
            "tags": []
          },
          "execution_count": 12
        }
      ]
    },
    {
      "cell_type": "markdown",
      "metadata": {
        "id": "60b3MJEpMcUJ",
        "colab_type": "text"
      },
      "source": [
        "datetime.datetime(year, month, day, hour, minute, second, microsecond)  "
      ]
    },
    {
      "cell_type": "code",
      "metadata": {
        "id": "-5q9gJNVLqI-",
        "colab_type": "code",
        "outputId": "d1c2bd9b-0e55-43de-f552-f0f99e34a724",
        "colab": {
          "base_uri": "https://localhost:8080/",
          "height": 143
        }
      },
      "source": [
        "print(\"year : {}\".format(now_time.year))\n",
        "print(\"month : {}\".format(now_time.month))\n",
        "print(\"day : {}\".format(now_time.day))\n",
        "print(\"hour : {}\".format(now_time.hour))\n",
        "print(\"minute : {}\".format(now_time.minute))\n",
        "print(\"second : {}\".format(now_time.second))\n",
        "print(\"microsecond : {}\".format(now_time.microsecond))"
      ],
      "execution_count": 13,
      "outputs": [
        {
          "output_type": "stream",
          "text": [
            "year : 2019\n",
            "month : 11\n",
            "day : 11\n",
            "hour : 3\n",
            "minute : 31\n",
            "second : 42\n",
            "microsecond : 393075\n"
          ],
          "name": "stdout"
        }
      ]
    },
    {
      "cell_type": "markdown",
      "metadata": {
        "id": "M-brev3sMmLL",
        "colab_type": "text"
      },
      "source": [
        "**datetime.weekday()**  \n",
        "요일을 숫자로 반환  \n",
        "0 : 월 ~ 6 : 일  "
      ]
    },
    {
      "cell_type": "code",
      "metadata": {
        "id": "9r3edZBnMXLc",
        "colab_type": "code",
        "outputId": "71006ade-5434-4cdb-a2e4-2859025e90d3",
        "colab": {
          "base_uri": "https://localhost:8080/",
          "height": 35
        }
      },
      "source": [
        "now_time.weekday()"
      ],
      "execution_count": 14,
      "outputs": [
        {
          "output_type": "execute_result",
          "data": {
            "text/plain": [
              "0"
            ]
          },
          "metadata": {
            "tags": []
          },
          "execution_count": 14
        }
      ]
    },
    {
      "cell_type": "markdown",
      "metadata": {
        "id": "DPe2oAe0hI5h",
        "colab_type": "text"
      },
      "source": [
        "**datetime.date()**  \n",
        "날짜만 출력"
      ]
    },
    {
      "cell_type": "code",
      "metadata": {
        "id": "Vwd1lIALhCth",
        "colab_type": "code",
        "colab": {
          "base_uri": "https://localhost:8080/",
          "height": 35
        },
        "outputId": "5614f5c5-0edc-4bd8-dece-54abc5b86da7"
      },
      "source": [
        "now_time.date()"
      ],
      "execution_count": 15,
      "outputs": [
        {
          "output_type": "execute_result",
          "data": {
            "text/plain": [
              "datetime.date(2019, 11, 11)"
            ]
          },
          "metadata": {
            "tags": []
          },
          "execution_count": 15
        }
      ]
    },
    {
      "cell_type": "markdown",
      "metadata": {
        "id": "P5n_cnNPhV3_",
        "colab_type": "text"
      },
      "source": [
        "**datetime.time()**  \n",
        "시간만 출력  "
      ]
    },
    {
      "cell_type": "code",
      "metadata": {
        "id": "vxi7pXa5hab4",
        "colab_type": "code",
        "colab": {
          "base_uri": "https://localhost:8080/",
          "height": 35
        },
        "outputId": "99b0ec6e-6c65-4058-faf9-1181fdfc08c1"
      },
      "source": [
        "now_time.time()"
      ],
      "execution_count": 17,
      "outputs": [
        {
          "output_type": "execute_result",
          "data": {
            "text/plain": [
              "datetime.time(3, 31, 42, 393075)"
            ]
          },
          "metadata": {
            "tags": []
          },
          "execution_count": 17
        }
      ]
    },
    {
      "cell_type": "markdown",
      "metadata": {
        "id": "FvPnMzHQjDrz",
        "colab_type": "text"
      },
      "source": [
        "**datetime.datetime.combine(d, t)**  \n",
        "date와 time합치기  "
      ]
    },
    {
      "cell_type": "code",
      "metadata": {
        "id": "AbUNi4_7jBm2",
        "colab_type": "code",
        "colab": {}
      },
      "source": [
        "d = datetime.date(2017, 8, 31)\n",
        "t = datetime.time(18, 30, 0)\n",
        "\n",
        "datetime.datetime.combine(d, t)"
      ],
      "execution_count": 0,
      "outputs": []
    },
    {
      "cell_type": "markdown",
      "metadata": {
        "id": "WsNicskrNZ5X",
        "colab_type": "text"
      },
      "source": [
        "**datetime.strftime()**  \n",
        "datetime을 문자열로  "
      ]
    },
    {
      "cell_type": "code",
      "metadata": {
        "id": "L1bRAn1zM6Qi",
        "colab_type": "code",
        "outputId": "c80874e1-0ba5-4b27-9d2a-0630d98c0f3a",
        "colab": {
          "base_uri": "https://localhost:8080/",
          "height": 35
        }
      },
      "source": [
        "now_time.strftime('%y%m%d')"
      ],
      "execution_count": 18,
      "outputs": [
        {
          "output_type": "execute_result",
          "data": {
            "text/plain": [
              "'191111'"
            ]
          },
          "metadata": {
            "tags": []
          },
          "execution_count": 18
        }
      ]
    },
    {
      "cell_type": "markdown",
      "metadata": {
        "id": "7h2k9he7NiWa",
        "colab_type": "text"
      },
      "source": [
        "**datetime.strptime(date_string, format)**  \n",
        "문자열을 datetime으로"
      ]
    },
    {
      "cell_type": "code",
      "metadata": {
        "id": "jONsDWBmdZ-5",
        "colab_type": "code",
        "colab": {
          "base_uri": "https://localhost:8080/",
          "height": 35
        },
        "outputId": "cca12825-2558-4cfb-bdb1-fef28954c3b7"
      },
      "source": [
        "datetime.datetime.strptime(\"17/08/31\", \"%y/%m/%d\")"
      ],
      "execution_count": 20,
      "outputs": [
        {
          "output_type": "execute_result",
          "data": {
            "text/plain": [
              "datetime.datetime(2017, 8, 31, 0, 0)"
            ]
          },
          "metadata": {
            "tags": []
          },
          "execution_count": 20
        }
      ]
    }
  ]
}